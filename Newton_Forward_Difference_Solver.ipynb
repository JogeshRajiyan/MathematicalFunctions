{
 "cells": [
  {
   "cell_type": "markdown",
   "metadata": {},
   "source": [
    "# Newton Forward Difference Solver"
   ]
  },
  {
   "cell_type": "markdown",
   "metadata": {},
   "source": [
    "#  Solve the following using Newton Forward differnce interpolation\n",
    "#  *---------*----------*\n",
    "#  |    x    |     y    |\n",
    "#  |    1    |    12    |\n",
    "#  |   1.4   |    14    |\n",
    "#  |   1.8   |    23    |\n",
    "#  |   2.2   |    44    |\n",
    "#  |   2.6   |    89    |\n",
    "#  *---------*----------*\n",
    "#  Find the value of y for x = 2"
   ]
  },
  {
   "cell_type": "code",
   "execution_count": 67,
   "metadata": {
    "scrolled": true
   },
   "outputs": [
    {
     "name": "stdout",
     "output_type": "stream",
     "text": [
      "Enter the values of x(comma separated): 1,1.4,1.8,2.2,2.6\n",
      "Enter the values of y(comma separated): 12,14,23,44,89\n",
      "Enter the value of x for which value of y has to be found: 2\n",
      "[1, 1.4, 1.8, 2.2, 2.6]\n",
      "[12, 14, 23, 44, 89]\n",
      "Successive dy values for given y values:  [[2, 9, 21, 45], [7, 12, 24], [5, 12], [7]]\n",
      "The required value for y is:  31.41406250000001\n"
     ]
    }
   ],
   "source": [
    "def find_dy(y):\n",
    "    dy_values = [];\n",
    "    i = 0;\n",
    "    while i < len(y) - 1:\n",
    "        dy = y[i + 1] - y[i]\n",
    "        dy_values.append(dy)\n",
    "        i += 1\n",
    "    return dy_values\n",
    "\n",
    "dy_global = [];\n",
    "def list_dy(y):\n",
    "    global dy_global;\n",
    "    while len(y) > 1:\n",
    "        dy_global.append(find_dy(y))\n",
    "        return list_dy(find_dy(y))\n",
    "    return dy_global\n",
    "\n",
    "def retrieve_dy(y):\n",
    "    dy_global.insert(1,y)\n",
    "    l = list(list_dy(y))\n",
    "    print(\"Successive dy values for given y values: \",l[1:])\n",
    "    return [item[0] for item in l]\n",
    "\n",
    "def calculate_u(u,n):\n",
    "    local_var = u;\n",
    "    for i in range(1,n):\n",
    "        local_var = local_var*(u - i)\n",
    "    return local_var\n",
    "\n",
    "def factorial(n):\n",
    "    if n==1:\n",
    "        return 1\n",
    "    else:\n",
    "        return n*factorial(n-1)\n",
    "\n",
    "\n",
    "def forward_difference(x,y,to_find):\n",
    "    print(x)\n",
    "    print(y)\n",
    "    dy_list = list(retrieve_dy(y))\n",
    "    n = len(dy_list)\n",
    "    u = (to_find - x[0])/(x[1] - x[0])\n",
    "    sum_dy = dy_list[0]\n",
    "    for i in range(1,n):\n",
    "        sum_dy = sum_dy + (calculate_u(u,i)*dy_list[i])/factorial(i)\n",
    "    print(\"The required value for y is: \",sum_dy)\n",
    "    \n",
    "x = list(eval(input(\"Enter the values of x(comma separated): \")))\n",
    "y = list(eval(input(\"Enter the values of y(comma separated): \")))\n",
    "to_find = int(input(\"Enter the value of x for which value of y has to be found: \"))\n",
    "forward_difference(x,y,to_find)"
   ]
  }
 ],
 "metadata": {
  "kernelspec": {
   "display_name": "Python 3",
   "language": "python",
   "name": "python3"
  },
  "language_info": {
   "codemirror_mode": {
    "name": "ipython",
    "version": 3
   },
   "file_extension": ".py",
   "mimetype": "text/x-python",
   "name": "python",
   "nbconvert_exporter": "python",
   "pygments_lexer": "ipython3",
   "version": "3.7.1"
  }
 },
 "nbformat": 4,
 "nbformat_minor": 2
}
